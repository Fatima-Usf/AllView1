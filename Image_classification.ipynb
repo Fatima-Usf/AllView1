{
  "nbformat": 4,
  "nbformat_minor": 0,
  "metadata": {
    "colab": {
      "name": "Image_classification.ipynb",
      "private_outputs": true,
      "provenance": [],
      "toc_visible": true,
      "authorship_tag": "ABX9TyPmQaM89JCnHwQ81VyjRh4o",
      "include_colab_link": true
    },
    "kernelspec": {
      "display_name": "Python 3",
      "name": "python3"
    },
    "accelerator": "GPU"
  },
  "cells": [
    {
      "cell_type": "markdown",
      "metadata": {
        "id": "view-in-github",
        "colab_type": "text"
      },
      "source": [
        "<a href=\"https://colab.research.google.com/github/atmaniali/AllView1/blob/master/Image_classification.ipynb\" target=\"_parent\"><img src=\"https://colab.research.google.com/assets/colab-badge.svg\" alt=\"Open In Colab\"/></a>"
      ]
    },
    {
      "cell_type": "markdown",
      "metadata": {
        "id": "ctpTQrJUpPb5"
      },
      "source": [
        "##Import Library\r\n",
        "\r\n",
        "---\r\n",
        "\r\n"
      ]
    },
    {
      "cell_type": "code",
      "metadata": {
        "id": "RF2xkrnuo6Kx"
      },
      "source": [
        "import matplotlib.pyplot as plt\r\n",
        "import numpy as np\r\n",
        "import tensorflow as tf\r\n",
        "import tensorflow_datasets as tfds\r\n",
        "from tensorflow import keras\r\n",
        "tfds.disable_progress_bar"
      ],
      "execution_count": null,
      "outputs": []
    },
    {
      "cell_type": "code",
      "metadata": {
        "id": "0mp9y_ynplkk"
      },
      "source": [
        "#find dataset\r\n",
        "tfds.list_builders"
      ],
      "execution_count": null,
      "outputs": []
    },
    {
      "cell_type": "markdown",
      "metadata": {
        "id": "eAFgmwd-qXP0"
      },
      "source": [
        "# Load data"
      ]
    },
    {
      "cell_type": "code",
      "metadata": {
        "id": "ZTUuW9PaqdU5"
      },
      "source": [
        "build = tfds.builder('rock_paper_scissors')\r\n",
        "info = build.info\r\n",
        "info"
      ],
      "execution_count": null,
      "outputs": []
    },
    {
      "cell_type": "code",
      "metadata": {
        "id": "RRgDQTP4q2SF"
      },
      "source": [
        "ds_train = tfds.load(name=\"rock_paper_scissors\", split= \"train\")\r\n",
        "ds_test = tfds.load(name=\"rock_paper_scissors\", split= \"test\")\r\n",
        "ds_train"
      ],
      "execution_count": null,
      "outputs": []
    },
    {
      "cell_type": "code",
      "metadata": {
        "id": "qDclC0vpq6Za"
      },
      "source": [
        "train_images = np.array([example[\"image\"].numpy()[:,:,0] for example in ds_train])\r\n",
        "train_labels = np.array([example[\"label\"].numpy() for example in ds_train])\r\n",
        "test_images = np.array([example[\"image\"].numpy()[:,:,0] for example in ds_test]) \r\n",
        "test_labels = np.array([example[\"label\"].numpy() for example in ds_test])"
      ],
      "execution_count": null,
      "outputs": []
    },
    {
      "cell_type": "code",
      "metadata": {
        "id": "6g-guTcQrlgh"
      },
      "source": [
        "#dimention\r\n",
        "train_images.shape\r\n",
        "#type(train_images)"
      ],
      "execution_count": null,
      "outputs": []
    },
    {
      "cell_type": "code",
      "metadata": {
        "id": "R5Y85y6DtadA"
      },
      "source": [
        "pixels = train_images.flatten()\r\n",
        "pixels.shape"
      ],
      "execution_count": null,
      "outputs": []
    },
    {
      "cell_type": "code",
      "metadata": {
        "id": "-dZv3DwIx0ib"
      },
      "source": [
        "train_images = train_images.reshape(2520, 300, 300,1)\r\n",
        "test_images = test_images.reshape(372, 300, 300,1)\r\n",
        "train_images.shape"
      ],
      "execution_count": null,
      "outputs": []
    },
    {
      "cell_type": "code",
      "metadata": {
        "id": "L8pgGdH6yJMd"
      },
      "source": [
        "train_images = train_images.astype('float32')\r\n",
        "test_images = test_images.astype('float32')"
      ],
      "execution_count": null,
      "outputs": []
    },
    {
      "cell_type": "code",
      "metadata": {
        "id": "IkZDuSqUygUP"
      },
      "source": [
        "train_images /= 255\r\n",
        "test_images /= 255\r\n",
        "train_images.shape"
      ],
      "execution_count": null,
      "outputs": []
    },
    {
      "cell_type": "markdown",
      "metadata": {
        "id": "gtMdi0QiyjCs"
      },
      "source": [
        "# Create Model"
      ]
    },
    {
      "cell_type": "code",
      "metadata": {
        "id": "gvp6aYf3ypAO"
      },
      "source": [
        "model = keras.Sequential([\r\n",
        "                          \r\n",
        "                          keras.layers.Conv2D(64,3, activation= 'relu', input_shape = (300,300,1)),\r\n",
        "                          keras.layers.MaxPool2D(2,2),\r\n",
        "                          keras.layers.Conv2D(32, 3, activation = 'relu'),\r\n",
        "                          keras.layers.MaxPool2D(2,2),\r\n",
        "                          #keras.layers.Dropout(0.5),\r\n",
        "                          keras.layers.Flatten(),\r\n",
        "                          keras.layers.Dense(128, activation= 'relu'),\r\n",
        "                          keras.layers.Dense(64, activation= 'relu'),\r\n",
        "                          keras.layers.Dense(3, activation= 'softmax')\r\n",
        "])\r\n",
        "\r\n",
        "model.compile(optimizer='adam',\r\n",
        "              loss  = keras.losses.SparseCategoricalCrossentropy(),\r\n",
        "              metrics = ['accuracy']\r\n",
        "              )\r\n",
        "model.fit(train_images,train_labels,epochs=15, batch_size=32)\r\n",
        "\r\n",
        "model.save(\"Bibliothèques\\Documents\\saved_models.h5\")"
      ],
      "execution_count": null,
      "outputs": []
    },
    {
      "cell_type": "code",
      "metadata": {
        "id": "TRJgjtAp6UPg"
      },
      "source": [
        "model.evaluate(test_images,test_labels)"
      ],
      "execution_count": null,
      "outputs": []
    }
  ]
}